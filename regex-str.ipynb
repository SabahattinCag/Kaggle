{
 "cells": [
  {
   "cell_type": "code",
   "execution_count": 1,
   "id": "b764b29e",
   "metadata": {
    "_cell_guid": "b1076dfc-b9ad-4769-8c92-a6c4dae69d19",
    "_uuid": "8f2839f25d086af736a60e9eeb907d3b93b6e0e5",
    "execution": {
     "iopub.execute_input": "2023-07-20T15:36:53.061007Z",
     "iopub.status.busy": "2023-07-20T15:36:53.060654Z",
     "iopub.status.idle": "2023-07-20T15:36:53.077411Z",
     "shell.execute_reply": "2023-07-20T15:36:53.076462Z"
    },
    "papermill": {
     "duration": 0.024723,
     "end_time": "2023-07-20T15:36:53.079689",
     "exception": false,
     "start_time": "2023-07-20T15:36:53.054966",
     "status": "completed"
    },
    "tags": []
   },
   "outputs": [
    {
     "name": "stdout",
     "output_type": "stream",
     "text": [
      "/kaggle/input/working-with-text-and-time-data/text_exercise.XLSX\n",
      "/kaggle/input/working-with-text-and-time-data/DAwPy_S10_(Working_with_Text_and_Time_Data)_InClass_19.7.23.ipynb\n",
      "/kaggle/input/working-with-text-and-time-data/time_exercise.csv\n"
     ]
    }
   ],
   "source": [
    "# This Python 3 environment comes with many helpful analytics libraries installed\n",
    "# It is defined by the kaggle/python Docker image: https://github.com/kaggle/docker-python\n",
    "# For example, here's several helpful packages to load\n",
    "\n",
    "import numpy as np # linear algebra\n",
    "import pandas as pd # data processing, CSV file I/O (e.g. pd.read_csv)\n",
    "\n",
    "# Input data files are available in the read-only \"../input/\" directory\n",
    "# For example, running this (by clicking run or pressing Shift+Enter) will list all files under the input directory\n",
    "\n",
    "import os\n",
    "for dirname, _, filenames in os.walk('/kaggle/input'):\n",
    "    for filename in filenames:\n",
    "        print(os.path.join(dirname, filename))\n",
    "\n",
    "# You can write up to 20GB to the current directory (/kaggle/working/) that gets preserved as output when you create a version using \"Save & Run All\" \n",
    "# You can also write temporary files to /kaggle/temp/, but they won't be saved outside of the current session"
   ]
  },
  {
   "cell_type": "code",
   "execution_count": 2,
   "id": "6b31ffd8",
   "metadata": {
    "execution": {
     "iopub.execute_input": "2023-07-20T15:36:53.088787Z",
     "iopub.status.busy": "2023-07-20T15:36:53.088190Z",
     "iopub.status.idle": "2023-07-20T15:36:54.339507Z",
     "shell.execute_reply": "2023-07-20T15:36:54.338464Z"
    },
    "papermill": {
     "duration": 1.258688,
     "end_time": "2023-07-20T15:36:54.342311",
     "exception": false,
     "start_time": "2023-07-20T15:36:53.083623",
     "status": "completed"
    },
    "tags": []
   },
   "outputs": [
    {
     "name": "stderr",
     "output_type": "stream",
     "text": [
      "/opt/conda/lib/python3.10/site-packages/scipy/__init__.py:146: UserWarning: A NumPy version >=1.16.5 and <1.23.0 is required for this version of SciPy (detected version 1.23.5\n",
      "  warnings.warn(f\"A NumPy version >={np_minversion} and <{np_maxversion}\"\n"
     ]
    },
    {
     "name": "stdout",
     "output_type": "stream",
     "text": [
      "Setup completed!\n"
     ]
    }
   ],
   "source": [
    "import numpy as np\n",
    "import pandas as pd\n",
    "import seaborn as sns\n",
    "print('Setup completed!')"
   ]
  },
  {
   "cell_type": "code",
   "execution_count": 3,
   "id": "d47f164f",
   "metadata": {
    "execution": {
     "iopub.execute_input": "2023-07-20T15:36:54.351917Z",
     "iopub.status.busy": "2023-07-20T15:36:54.351553Z",
     "iopub.status.idle": "2023-07-20T15:36:54.705279Z",
     "shell.execute_reply": "2023-07-20T15:36:54.704146Z"
    },
    "papermill": {
     "duration": 0.361559,
     "end_time": "2023-07-20T15:36:54.708078",
     "exception": false,
     "start_time": "2023-07-20T15:36:54.346519",
     "status": "completed"
    },
    "tags": []
   },
   "outputs": [
    {
     "data": {
      "text/html": [
       "<div>\n",
       "<style scoped>\n",
       "    .dataframe tbody tr th:only-of-type {\n",
       "        vertical-align: middle;\n",
       "    }\n",
       "\n",
       "    .dataframe tbody tr th {\n",
       "        vertical-align: top;\n",
       "    }\n",
       "\n",
       "    .dataframe thead th {\n",
       "        text-align: right;\n",
       "    }\n",
       "</style>\n",
       "<table border=\"1\" class=\"dataframe\">\n",
       "  <thead>\n",
       "    <tr style=\"text-align: right;\">\n",
       "      <th></th>\n",
       "      <th>id</th>\n",
       "      <th>staff</th>\n",
       "      <th>department</th>\n",
       "      <th>job</th>\n",
       "      <th>salary</th>\n",
       "      <th>age</th>\n",
       "    </tr>\n",
       "  </thead>\n",
       "  <tbody>\n",
       "    <tr>\n",
       "      <th>0</th>\n",
       "      <td>M0001</td>\n",
       "      <td>Tom BLUE</td>\n",
       "      <td>HR</td>\n",
       "      <td>manager</td>\n",
       "      <td>\"$150,000\"</td>\n",
       "      <td>52</td>\n",
       "    </tr>\n",
       "    <tr>\n",
       "      <th>1</th>\n",
       "      <td>M0002</td>\n",
       "      <td>JOHN BLACK</td>\n",
       "      <td>IT</td>\n",
       "      <td>manager</td>\n",
       "      <td>\"$180,000\"</td>\n",
       "      <td>48</td>\n",
       "    </tr>\n",
       "    <tr>\n",
       "      <th>2</th>\n",
       "      <td>E0001</td>\n",
       "      <td>Micheal Brown</td>\n",
       "      <td>IT</td>\n",
       "      <td>data scientist</td>\n",
       "      <td>\"$150,000\"</td>\n",
       "      <td>35</td>\n",
       "    </tr>\n",
       "    <tr>\n",
       "      <th>3</th>\n",
       "      <td>E0002</td>\n",
       "      <td>jason walker</td>\n",
       "      <td>HR</td>\n",
       "      <td>recruiter</td>\n",
       "      <td>130000dolar</td>\n",
       "      <td>38</td>\n",
       "    </tr>\n",
       "    <tr>\n",
       "      <th>4</th>\n",
       "      <td>E0003</td>\n",
       "      <td>Alex Green</td>\n",
       "      <td>IT</td>\n",
       "      <td>backend developer</td>\n",
       "      <td>\"$110,000\"</td>\n",
       "      <td>-</td>\n",
       "    </tr>\n",
       "    <tr>\n",
       "      <th>5</th>\n",
       "      <td>E0004</td>\n",
       "      <td>OSCAR SMİTH</td>\n",
       "      <td>IT</td>\n",
       "      <td>frontend developer</td>\n",
       "      <td>\"$120,000\"</td>\n",
       "      <td>32</td>\n",
       "    </tr>\n",
       "    <tr>\n",
       "      <th>6</th>\n",
       "      <td>E0005</td>\n",
       "      <td>Adrian STAR</td>\n",
       "      <td>IT</td>\n",
       "      <td>data scientist</td>\n",
       "      <td>\"$135,000\"</td>\n",
       "      <td>40</td>\n",
       "    </tr>\n",
       "    <tr>\n",
       "      <th>7</th>\n",
       "      <td>E0006</td>\n",
       "      <td>Albert simon</td>\n",
       "      <td>IT</td>\n",
       "      <td>data scientist</td>\n",
       "      <td>125000dolar</td>\n",
       "      <td>35</td>\n",
       "    </tr>\n",
       "  </tbody>\n",
       "</table>\n",
       "</div>"
      ],
      "text/plain": [
       "      id          staff department                 job       salary age\n",
       "0  M0001       Tom BLUE         HR             manager   \"$150,000\"  52\n",
       "1  M0002     JOHN BLACK         IT             manager   \"$180,000\"  48\n",
       "2  E0001  Micheal Brown         IT      data scientist   \"$150,000\"  35\n",
       "3  E0002   jason walker         HR           recruiter  130000dolar  38\n",
       "4  E0003     Alex Green         IT   backend developer   \"$110,000\"   -\n",
       "5  E0004    OSCAR SMİTH         IT  frontend developer   \"$120,000\"  32\n",
       "6  E0005    Adrian STAR         IT      data scientist   \"$135,000\"  40\n",
       "7  E0006   Albert simon         IT      data scientist  125000dolar  35"
      ]
     },
     "execution_count": 3,
     "metadata": {},
     "output_type": "execute_result"
    }
   ],
   "source": [
    "df0 = pd.read_excel('/kaggle/input/working-with-text-and-time-data/text_exercise.XLSX')\n",
    "df = df0.copy()\n",
    "df"
   ]
  },
  {
   "cell_type": "code",
   "execution_count": 4,
   "id": "399231a7",
   "metadata": {
    "execution": {
     "iopub.execute_input": "2023-07-20T15:36:54.718388Z",
     "iopub.status.busy": "2023-07-20T15:36:54.717811Z",
     "iopub.status.idle": "2023-07-20T15:36:54.741462Z",
     "shell.execute_reply": "2023-07-20T15:36:54.740669Z"
    },
    "papermill": {
     "duration": 0.030856,
     "end_time": "2023-07-20T15:36:54.743256",
     "exception": false,
     "start_time": "2023-07-20T15:36:54.712400",
     "status": "completed"
    },
    "tags": []
   },
   "outputs": [
    {
     "name": "stdout",
     "output_type": "stream",
     "text": [
      "<class 'pandas.core.frame.DataFrame'>\n",
      "RangeIndex: 8 entries, 0 to 7\n",
      "Data columns (total 6 columns):\n",
      " #   Column      Non-Null Count  Dtype \n",
      "---  ------      --------------  ----- \n",
      " 0   id          8 non-null      object\n",
      " 1   staff       8 non-null      object\n",
      " 2   department  8 non-null      object\n",
      " 3   job         8 non-null      object\n",
      " 4   salary      8 non-null      object\n",
      " 5   age         8 non-null      object\n",
      "dtypes: object(6)\n",
      "memory usage: 512.0+ bytes\n"
     ]
    }
   ],
   "source": [
    "df.info()"
   ]
  },
  {
   "cell_type": "code",
   "execution_count": 5,
   "id": "a156fb94",
   "metadata": {
    "execution": {
     "iopub.execute_input": "2023-07-20T15:36:54.755072Z",
     "iopub.status.busy": "2023-07-20T15:36:54.754156Z",
     "iopub.status.idle": "2023-07-20T15:36:54.766750Z",
     "shell.execute_reply": "2023-07-20T15:36:54.765683Z"
    },
    "papermill": {
     "duration": 0.020619,
     "end_time": "2023-07-20T15:36:54.768964",
     "exception": false,
     "start_time": "2023-07-20T15:36:54.748345",
     "status": "completed"
    },
    "tags": []
   },
   "outputs": [
    {
     "data": {
      "text/html": [
       "<div>\n",
       "<style scoped>\n",
       "    .dataframe tbody tr th:only-of-type {\n",
       "        vertical-align: middle;\n",
       "    }\n",
       "\n",
       "    .dataframe tbody tr th {\n",
       "        vertical-align: top;\n",
       "    }\n",
       "\n",
       "    .dataframe thead th {\n",
       "        text-align: right;\n",
       "    }\n",
       "</style>\n",
       "<table border=\"1\" class=\"dataframe\">\n",
       "  <thead>\n",
       "    <tr style=\"text-align: right;\">\n",
       "      <th></th>\n",
       "      <th>0</th>\n",
       "      <th>1</th>\n",
       "    </tr>\n",
       "  </thead>\n",
       "  <tbody>\n",
       "    <tr>\n",
       "      <th>0</th>\n",
       "      <td>Tom</td>\n",
       "      <td>Blue</td>\n",
       "    </tr>\n",
       "    <tr>\n",
       "      <th>1</th>\n",
       "      <td>John</td>\n",
       "      <td>Black</td>\n",
       "    </tr>\n",
       "    <tr>\n",
       "      <th>2</th>\n",
       "      <td>Micheal</td>\n",
       "      <td>Brown</td>\n",
       "    </tr>\n",
       "    <tr>\n",
       "      <th>3</th>\n",
       "      <td>Jason</td>\n",
       "      <td>Walker</td>\n",
       "    </tr>\n",
       "    <tr>\n",
       "      <th>4</th>\n",
       "      <td>Alex</td>\n",
       "      <td>Green</td>\n",
       "    </tr>\n",
       "    <tr>\n",
       "      <th>5</th>\n",
       "      <td>Oscar</td>\n",
       "      <td>Smi</td>\n",
       "    </tr>\n",
       "    <tr>\n",
       "      <th>6</th>\n",
       "      <td>Adrian</td>\n",
       "      <td>Star</td>\n",
       "    </tr>\n",
       "    <tr>\n",
       "      <th>7</th>\n",
       "      <td>Albert</td>\n",
       "      <td>Simon</td>\n",
       "    </tr>\n",
       "  </tbody>\n",
       "</table>\n",
       "</div>"
      ],
      "text/plain": [
       "         0       1\n",
       "0      Tom    Blue\n",
       "1     John   Black\n",
       "2  Micheal   Brown\n",
       "3    Jason  Walker\n",
       "4     Alex   Green\n",
       "5    Oscar     Smi\n",
       "6   Adrian    Star\n",
       "7   Albert   Simon"
      ]
     },
     "execution_count": 5,
     "metadata": {},
     "output_type": "execute_result"
    }
   ],
   "source": [
    "df[\"staff\"].str.title().str.extract(\"(\\w+)\\s(\\w+)\")"
   ]
  },
  {
   "cell_type": "code",
   "execution_count": 6,
   "id": "15958359",
   "metadata": {
    "execution": {
     "iopub.execute_input": "2023-07-20T15:36:54.781362Z",
     "iopub.status.busy": "2023-07-20T15:36:54.780784Z",
     "iopub.status.idle": "2023-07-20T15:36:54.790138Z",
     "shell.execute_reply": "2023-07-20T15:36:54.789485Z"
    },
    "papermill": {
     "duration": 0.017517,
     "end_time": "2023-07-20T15:36:54.791876",
     "exception": false,
     "start_time": "2023-07-20T15:36:54.774359",
     "status": "completed"
    },
    "tags": []
   },
   "outputs": [
    {
     "data": {
      "text/html": [
       "<div>\n",
       "<style scoped>\n",
       "    .dataframe tbody tr th:only-of-type {\n",
       "        vertical-align: middle;\n",
       "    }\n",
       "\n",
       "    .dataframe tbody tr th {\n",
       "        vertical-align: top;\n",
       "    }\n",
       "\n",
       "    .dataframe thead th {\n",
       "        text-align: right;\n",
       "    }\n",
       "</style>\n",
       "<table border=\"1\" class=\"dataframe\">\n",
       "  <thead>\n",
       "    <tr style=\"text-align: right;\">\n",
       "      <th></th>\n",
       "      <th>0</th>\n",
       "      <th>1</th>\n",
       "    </tr>\n",
       "  </thead>\n",
       "  <tbody>\n",
       "    <tr>\n",
       "      <th>0</th>\n",
       "      <td>Tom</td>\n",
       "      <td>Blue</td>\n",
       "    </tr>\n",
       "    <tr>\n",
       "      <th>1</th>\n",
       "      <td>John</td>\n",
       "      <td>Black</td>\n",
       "    </tr>\n",
       "    <tr>\n",
       "      <th>2</th>\n",
       "      <td>Micheal</td>\n",
       "      <td>Brown</td>\n",
       "    </tr>\n",
       "    <tr>\n",
       "      <th>3</th>\n",
       "      <td>Jason</td>\n",
       "      <td>Walker</td>\n",
       "    </tr>\n",
       "    <tr>\n",
       "      <th>4</th>\n",
       "      <td>Alex</td>\n",
       "      <td>Green</td>\n",
       "    </tr>\n",
       "    <tr>\n",
       "      <th>5</th>\n",
       "      <td>Oscar</td>\n",
       "      <td>Smi̇th</td>\n",
       "    </tr>\n",
       "    <tr>\n",
       "      <th>6</th>\n",
       "      <td>Adrian</td>\n",
       "      <td>Star</td>\n",
       "    </tr>\n",
       "    <tr>\n",
       "      <th>7</th>\n",
       "      <td>Albert</td>\n",
       "      <td>Simon</td>\n",
       "    </tr>\n",
       "  </tbody>\n",
       "</table>\n",
       "</div>"
      ],
      "text/plain": [
       "         0       1\n",
       "0      Tom    Blue\n",
       "1     John   Black\n",
       "2  Micheal   Brown\n",
       "3    Jason  Walker\n",
       "4     Alex   Green\n",
       "5    Oscar  Smi̇th\n",
       "6   Adrian    Star\n",
       "7   Albert   Simon"
      ]
     },
     "execution_count": 6,
     "metadata": {},
     "output_type": "execute_result"
    }
   ],
   "source": [
    "df[\"staff\"].str.title().str.split(' ',expand=True)"
   ]
  },
  {
   "cell_type": "code",
   "execution_count": 7,
   "id": "1852ef63",
   "metadata": {
    "execution": {
     "iopub.execute_input": "2023-07-20T15:36:54.803527Z",
     "iopub.status.busy": "2023-07-20T15:36:54.802908Z",
     "iopub.status.idle": "2023-07-20T15:36:54.818050Z",
     "shell.execute_reply": "2023-07-20T15:36:54.817213Z"
    },
    "papermill": {
     "duration": 0.022751,
     "end_time": "2023-07-20T15:36:54.820056",
     "exception": false,
     "start_time": "2023-07-20T15:36:54.797305",
     "status": "completed"
    },
    "tags": []
   },
   "outputs": [
    {
     "data": {
      "text/html": [
       "<div>\n",
       "<style scoped>\n",
       "    .dataframe tbody tr th:only-of-type {\n",
       "        vertical-align: middle;\n",
       "    }\n",
       "\n",
       "    .dataframe tbody tr th {\n",
       "        vertical-align: top;\n",
       "    }\n",
       "\n",
       "    .dataframe thead th {\n",
       "        text-align: right;\n",
       "    }\n",
       "</style>\n",
       "<table border=\"1\" class=\"dataframe\">\n",
       "  <thead>\n",
       "    <tr style=\"text-align: right;\">\n",
       "      <th></th>\n",
       "      <th>id</th>\n",
       "      <th>staff</th>\n",
       "      <th>department</th>\n",
       "      <th>job</th>\n",
       "      <th>salary</th>\n",
       "      <th>age</th>\n",
       "      <th>name</th>\n",
       "      <th>surname</th>\n",
       "    </tr>\n",
       "  </thead>\n",
       "  <tbody>\n",
       "    <tr>\n",
       "      <th>0</th>\n",
       "      <td>M0001</td>\n",
       "      <td>Tom BLUE</td>\n",
       "      <td>HR</td>\n",
       "      <td>manager</td>\n",
       "      <td>\"$150,000\"</td>\n",
       "      <td>52</td>\n",
       "      <td>Tom</td>\n",
       "      <td>Blue</td>\n",
       "    </tr>\n",
       "    <tr>\n",
       "      <th>1</th>\n",
       "      <td>M0002</td>\n",
       "      <td>JOHN BLACK</td>\n",
       "      <td>IT</td>\n",
       "      <td>manager</td>\n",
       "      <td>\"$180,000\"</td>\n",
       "      <td>48</td>\n",
       "      <td>John</td>\n",
       "      <td>Black</td>\n",
       "    </tr>\n",
       "    <tr>\n",
       "      <th>2</th>\n",
       "      <td>E0001</td>\n",
       "      <td>Micheal Brown</td>\n",
       "      <td>IT</td>\n",
       "      <td>data scientist</td>\n",
       "      <td>\"$150,000\"</td>\n",
       "      <td>35</td>\n",
       "      <td>Micheal</td>\n",
       "      <td>Brown</td>\n",
       "    </tr>\n",
       "    <tr>\n",
       "      <th>3</th>\n",
       "      <td>E0002</td>\n",
       "      <td>jason walker</td>\n",
       "      <td>HR</td>\n",
       "      <td>recruiter</td>\n",
       "      <td>130000dolar</td>\n",
       "      <td>38</td>\n",
       "      <td>Jason</td>\n",
       "      <td>Walker</td>\n",
       "    </tr>\n",
       "    <tr>\n",
       "      <th>4</th>\n",
       "      <td>E0003</td>\n",
       "      <td>Alex Green</td>\n",
       "      <td>IT</td>\n",
       "      <td>backend developer</td>\n",
       "      <td>\"$110,000\"</td>\n",
       "      <td>-</td>\n",
       "      <td>Alex</td>\n",
       "      <td>Green</td>\n",
       "    </tr>\n",
       "    <tr>\n",
       "      <th>5</th>\n",
       "      <td>E0004</td>\n",
       "      <td>OSCAR SMİTH</td>\n",
       "      <td>IT</td>\n",
       "      <td>frontend developer</td>\n",
       "      <td>\"$120,000\"</td>\n",
       "      <td>32</td>\n",
       "      <td>Oscar</td>\n",
       "      <td>Smi̇th</td>\n",
       "    </tr>\n",
       "    <tr>\n",
       "      <th>6</th>\n",
       "      <td>E0005</td>\n",
       "      <td>Adrian STAR</td>\n",
       "      <td>IT</td>\n",
       "      <td>data scientist</td>\n",
       "      <td>\"$135,000\"</td>\n",
       "      <td>40</td>\n",
       "      <td>Adrian</td>\n",
       "      <td>Star</td>\n",
       "    </tr>\n",
       "    <tr>\n",
       "      <th>7</th>\n",
       "      <td>E0006</td>\n",
       "      <td>Albert simon</td>\n",
       "      <td>IT</td>\n",
       "      <td>data scientist</td>\n",
       "      <td>125000dolar</td>\n",
       "      <td>35</td>\n",
       "      <td>Albert</td>\n",
       "      <td>Simon</td>\n",
       "    </tr>\n",
       "  </tbody>\n",
       "</table>\n",
       "</div>"
      ],
      "text/plain": [
       "      id          staff department                 job       salary age  \\\n",
       "0  M0001       Tom BLUE         HR             manager   \"$150,000\"  52   \n",
       "1  M0002     JOHN BLACK         IT             manager   \"$180,000\"  48   \n",
       "2  E0001  Micheal Brown         IT      data scientist   \"$150,000\"  35   \n",
       "3  E0002   jason walker         HR           recruiter  130000dolar  38   \n",
       "4  E0003     Alex Green         IT   backend developer   \"$110,000\"   -   \n",
       "5  E0004    OSCAR SMİTH         IT  frontend developer   \"$120,000\"  32   \n",
       "6  E0005    Adrian STAR         IT      data scientist   \"$135,000\"  40   \n",
       "7  E0006   Albert simon         IT      data scientist  125000dolar  35   \n",
       "\n",
       "      name surname  \n",
       "0      Tom    Blue  \n",
       "1     John   Black  \n",
       "2  Micheal   Brown  \n",
       "3    Jason  Walker  \n",
       "4     Alex   Green  \n",
       "5    Oscar  Smi̇th  \n",
       "6   Adrian    Star  \n",
       "7   Albert   Simon  "
      ]
     },
     "execution_count": 7,
     "metadata": {},
     "output_type": "execute_result"
    }
   ],
   "source": [
    "df[['name','surname']] = df[\"staff\"].str.title().str.split(' ',expand=True)\n",
    "df"
   ]
  },
  {
   "cell_type": "code",
   "execution_count": 8,
   "id": "036cee47",
   "metadata": {
    "execution": {
     "iopub.execute_input": "2023-07-20T15:36:54.830671Z",
     "iopub.status.busy": "2023-07-20T15:36:54.830401Z",
     "iopub.status.idle": "2023-07-20T15:36:54.842966Z",
     "shell.execute_reply": "2023-07-20T15:36:54.842345Z"
    },
    "papermill": {
     "duration": 0.019786,
     "end_time": "2023-07-20T15:36:54.844700",
     "exception": false,
     "start_time": "2023-07-20T15:36:54.824914",
     "status": "completed"
    },
    "tags": []
   },
   "outputs": [
    {
     "data": {
      "text/html": [
       "<div>\n",
       "<style scoped>\n",
       "    .dataframe tbody tr th:only-of-type {\n",
       "        vertical-align: middle;\n",
       "    }\n",
       "\n",
       "    .dataframe tbody tr th {\n",
       "        vertical-align: top;\n",
       "    }\n",
       "\n",
       "    .dataframe thead th {\n",
       "        text-align: right;\n",
       "    }\n",
       "</style>\n",
       "<table border=\"1\" class=\"dataframe\">\n",
       "  <thead>\n",
       "    <tr style=\"text-align: right;\">\n",
       "      <th></th>\n",
       "      <th>id</th>\n",
       "      <th>name</th>\n",
       "      <th>surname</th>\n",
       "      <th>department</th>\n",
       "      <th>job</th>\n",
       "      <th>age</th>\n",
       "      <th>salary</th>\n",
       "    </tr>\n",
       "  </thead>\n",
       "  <tbody>\n",
       "    <tr>\n",
       "      <th>0</th>\n",
       "      <td>M0001</td>\n",
       "      <td>Tom</td>\n",
       "      <td>Blue</td>\n",
       "      <td>HR</td>\n",
       "      <td>manager</td>\n",
       "      <td>52</td>\n",
       "      <td>\"$150,000\"</td>\n",
       "    </tr>\n",
       "    <tr>\n",
       "      <th>1</th>\n",
       "      <td>M0002</td>\n",
       "      <td>John</td>\n",
       "      <td>Black</td>\n",
       "      <td>IT</td>\n",
       "      <td>manager</td>\n",
       "      <td>48</td>\n",
       "      <td>\"$180,000\"</td>\n",
       "    </tr>\n",
       "    <tr>\n",
       "      <th>2</th>\n",
       "      <td>E0001</td>\n",
       "      <td>Micheal</td>\n",
       "      <td>Brown</td>\n",
       "      <td>IT</td>\n",
       "      <td>data scientist</td>\n",
       "      <td>35</td>\n",
       "      <td>\"$150,000\"</td>\n",
       "    </tr>\n",
       "    <tr>\n",
       "      <th>3</th>\n",
       "      <td>E0002</td>\n",
       "      <td>Jason</td>\n",
       "      <td>Walker</td>\n",
       "      <td>HR</td>\n",
       "      <td>recruiter</td>\n",
       "      <td>38</td>\n",
       "      <td>130000dolar</td>\n",
       "    </tr>\n",
       "    <tr>\n",
       "      <th>4</th>\n",
       "      <td>E0003</td>\n",
       "      <td>Alex</td>\n",
       "      <td>Green</td>\n",
       "      <td>IT</td>\n",
       "      <td>backend developer</td>\n",
       "      <td>-</td>\n",
       "      <td>\"$110,000\"</td>\n",
       "    </tr>\n",
       "    <tr>\n",
       "      <th>5</th>\n",
       "      <td>E0004</td>\n",
       "      <td>Oscar</td>\n",
       "      <td>Smi̇th</td>\n",
       "      <td>IT</td>\n",
       "      <td>frontend developer</td>\n",
       "      <td>32</td>\n",
       "      <td>\"$120,000\"</td>\n",
       "    </tr>\n",
       "    <tr>\n",
       "      <th>6</th>\n",
       "      <td>E0005</td>\n",
       "      <td>Adrian</td>\n",
       "      <td>Star</td>\n",
       "      <td>IT</td>\n",
       "      <td>data scientist</td>\n",
       "      <td>40</td>\n",
       "      <td>\"$135,000\"</td>\n",
       "    </tr>\n",
       "    <tr>\n",
       "      <th>7</th>\n",
       "      <td>E0006</td>\n",
       "      <td>Albert</td>\n",
       "      <td>Simon</td>\n",
       "      <td>IT</td>\n",
       "      <td>data scientist</td>\n",
       "      <td>35</td>\n",
       "      <td>125000dolar</td>\n",
       "    </tr>\n",
       "  </tbody>\n",
       "</table>\n",
       "</div>"
      ],
      "text/plain": [
       "      id     name surname department                 job age       salary\n",
       "0  M0001      Tom    Blue         HR             manager  52   \"$150,000\"\n",
       "1  M0002     John   Black         IT             manager  48   \"$180,000\"\n",
       "2  E0001  Micheal   Brown         IT      data scientist  35   \"$150,000\"\n",
       "3  E0002    Jason  Walker         HR           recruiter  38  130000dolar\n",
       "4  E0003     Alex   Green         IT   backend developer   -   \"$110,000\"\n",
       "5  E0004    Oscar  Smi̇th         IT  frontend developer  32   \"$120,000\"\n",
       "6  E0005   Adrian    Star         IT      data scientist  40   \"$135,000\"\n",
       "7  E0006   Albert   Simon         IT      data scientist  35  125000dolar"
      ]
     },
     "execution_count": 8,
     "metadata": {},
     "output_type": "execute_result"
    }
   ],
   "source": [
    "df = df.iloc[:,[0,6,7,2,3,5,4]]\n",
    "df"
   ]
  },
  {
   "cell_type": "code",
   "execution_count": 9,
   "id": "63150f3e",
   "metadata": {
    "execution": {
     "iopub.execute_input": "2023-07-20T15:36:54.855812Z",
     "iopub.status.busy": "2023-07-20T15:36:54.855233Z",
     "iopub.status.idle": "2023-07-20T15:36:54.862249Z",
     "shell.execute_reply": "2023-07-20T15:36:54.861654Z"
    },
    "papermill": {
     "duration": 0.014241,
     "end_time": "2023-07-20T15:36:54.863869",
     "exception": false,
     "start_time": "2023-07-20T15:36:54.849628",
     "status": "completed"
    },
    "tags": []
   },
   "outputs": [
    {
     "data": {
      "text/plain": [
       "0    150,000\n",
       "1    180,000\n",
       "2    150,000\n",
       "3     130000\n",
       "4    110,000\n",
       "5    120,000\n",
       "6    135,000\n",
       "7     125000\n",
       "Name: salary, dtype: object"
      ]
     },
     "execution_count": 9,
     "metadata": {},
     "output_type": "execute_result"
    }
   ],
   "source": [
    "df[\"salary\"].str.findall('\\d+,\\d+|\\d+').str[0]"
   ]
  },
  {
   "cell_type": "code",
   "execution_count": 10,
   "id": "5150a7ba",
   "metadata": {
    "execution": {
     "iopub.execute_input": "2023-07-20T15:36:54.880671Z",
     "iopub.status.busy": "2023-07-20T15:36:54.878617Z",
     "iopub.status.idle": "2023-07-20T15:36:54.889123Z",
     "shell.execute_reply": "2023-07-20T15:36:54.887962Z"
    },
    "papermill": {
     "duration": 0.021949,
     "end_time": "2023-07-20T15:36:54.890907",
     "exception": false,
     "start_time": "2023-07-20T15:36:54.868958",
     "status": "completed"
    },
    "tags": []
   },
   "outputs": [
    {
     "name": "stderr",
     "output_type": "stream",
     "text": [
      "/tmp/ipykernel_21/1391579778.py:1: SettingWithCopyWarning: \n",
      "A value is trying to be set on a copy of a slice from a DataFrame.\n",
      "Try using .loc[row_indexer,col_indexer] = value instead\n",
      "\n",
      "See the caveats in the documentation: https://pandas.pydata.org/pandas-docs/stable/user_guide/indexing.html#returning-a-view-versus-a-copy\n",
      "  df[\"salary\"] = df[\"salary\"].str.findall('\\d+,\\d+|\\d+').str[0].str.replace(\",\",\"\")\n",
      "/tmp/ipykernel_21/1391579778.py:2: SettingWithCopyWarning: \n",
      "A value is trying to be set on a copy of a slice from a DataFrame.\n",
      "Try using .loc[row_indexer,col_indexer] = value instead\n",
      "\n",
      "See the caveats in the documentation: https://pandas.pydata.org/pandas-docs/stable/user_guide/indexing.html#returning-a-view-versus-a-copy\n",
      "  df[\"salary\"] = df[\"salary\"].astype(int)\n"
     ]
    },
    {
     "data": {
      "text/plain": [
       "0    150000\n",
       "1    180000\n",
       "2    150000\n",
       "3    130000\n",
       "4    110000\n",
       "5    120000\n",
       "6    135000\n",
       "7    125000\n",
       "Name: salary, dtype: int64"
      ]
     },
     "execution_count": 10,
     "metadata": {},
     "output_type": "execute_result"
    }
   ],
   "source": [
    "df[\"salary\"] = df[\"salary\"].str.findall('\\d+,\\d+|\\d+').str[0].str.replace(\",\",\"\")\n",
    "df[\"salary\"] = df[\"salary\"].astype(int)\n",
    "df[\"salary\"]"
   ]
  },
  {
   "cell_type": "code",
   "execution_count": 11,
   "id": "b92c190d",
   "metadata": {
    "execution": {
     "iopub.execute_input": "2023-07-20T15:36:54.903628Z",
     "iopub.status.busy": "2023-07-20T15:36:54.903073Z",
     "iopub.status.idle": "2023-07-20T15:36:54.908508Z",
     "shell.execute_reply": "2023-07-20T15:36:54.907819Z"
    },
    "papermill": {
     "duration": 0.013116,
     "end_time": "2023-07-20T15:36:54.910085",
     "exception": false,
     "start_time": "2023-07-20T15:36:54.896969",
     "status": "completed"
    },
    "tags": []
   },
   "outputs": [
    {
     "data": {
      "text/plain": [
       "int"
      ]
     },
     "execution_count": 11,
     "metadata": {},
     "output_type": "execute_result"
    }
   ],
   "source": [
    "type(df.age[0])"
   ]
  },
  {
   "cell_type": "code",
   "execution_count": 12,
   "id": "d5a988d4",
   "metadata": {
    "execution": {
     "iopub.execute_input": "2023-07-20T15:36:54.921667Z",
     "iopub.status.busy": "2023-07-20T15:36:54.921144Z",
     "iopub.status.idle": "2023-07-20T15:36:54.926358Z",
     "shell.execute_reply": "2023-07-20T15:36:54.925654Z"
    },
    "papermill": {
     "duration": 0.012893,
     "end_time": "2023-07-20T15:36:54.927927",
     "exception": false,
     "start_time": "2023-07-20T15:36:54.915034",
     "status": "completed"
    },
    "tags": []
   },
   "outputs": [
    {
     "name": "stderr",
     "output_type": "stream",
     "text": [
      "/tmp/ipykernel_21/3538647278.py:1: SettingWithCopyWarning: \n",
      "A value is trying to be set on a copy of a slice from a DataFrame.\n",
      "Try using .loc[row_indexer,col_indexer] = value instead\n",
      "\n",
      "See the caveats in the documentation: https://pandas.pydata.org/pandas-docs/stable/user_guide/indexing.html#returning-a-view-versus-a-copy\n",
      "  df.age = df.age.replace('-',np.nan)\n"
     ]
    }
   ],
   "source": [
    "df.age = df.age.replace('-',np.nan)"
   ]
  },
  {
   "cell_type": "code",
   "execution_count": 13,
   "id": "b69c4a6f",
   "metadata": {
    "execution": {
     "iopub.execute_input": "2023-07-20T15:36:54.939896Z",
     "iopub.status.busy": "2023-07-20T15:36:54.939302Z",
     "iopub.status.idle": "2023-07-20T15:36:54.946174Z",
     "shell.execute_reply": "2023-07-20T15:36:54.945454Z"
    },
    "papermill": {
     "duration": 0.014805,
     "end_time": "2023-07-20T15:36:54.947744",
     "exception": false,
     "start_time": "2023-07-20T15:36:54.932939",
     "status": "completed"
    },
    "tags": []
   },
   "outputs": [
    {
     "data": {
      "text/plain": [
       "0    52.0\n",
       "1    48.0\n",
       "2    35.0\n",
       "3    38.0\n",
       "4     NaN\n",
       "5    32.0\n",
       "6    40.0\n",
       "7    35.0\n",
       "Name: age, dtype: float64"
      ]
     },
     "execution_count": 13,
     "metadata": {},
     "output_type": "execute_result"
    }
   ],
   "source": [
    "df.age"
   ]
  },
  {
   "cell_type": "code",
   "execution_count": 14,
   "id": "677edd71",
   "metadata": {
    "execution": {
     "iopub.execute_input": "2023-07-20T15:36:54.960027Z",
     "iopub.status.busy": "2023-07-20T15:36:54.959524Z",
     "iopub.status.idle": "2023-07-20T15:36:54.972333Z",
     "shell.execute_reply": "2023-07-20T15:36:54.971270Z"
    },
    "papermill": {
     "duration": 0.021134,
     "end_time": "2023-07-20T15:36:54.974166",
     "exception": false,
     "start_time": "2023-07-20T15:36:54.953032",
     "status": "completed"
    },
    "tags": []
   },
   "outputs": [
    {
     "data": {
      "text/html": [
       "<div>\n",
       "<style scoped>\n",
       "    .dataframe tbody tr th:only-of-type {\n",
       "        vertical-align: middle;\n",
       "    }\n",
       "\n",
       "    .dataframe tbody tr th {\n",
       "        vertical-align: top;\n",
       "    }\n",
       "\n",
       "    .dataframe thead th {\n",
       "        text-align: right;\n",
       "    }\n",
       "</style>\n",
       "<table border=\"1\" class=\"dataframe\">\n",
       "  <thead>\n",
       "    <tr style=\"text-align: right;\">\n",
       "      <th></th>\n",
       "      <th>id</th>\n",
       "      <th>name</th>\n",
       "      <th>surname</th>\n",
       "      <th>department</th>\n",
       "      <th>job</th>\n",
       "      <th>age</th>\n",
       "      <th>salary</th>\n",
       "    </tr>\n",
       "  </thead>\n",
       "  <tbody>\n",
       "    <tr>\n",
       "      <th>0</th>\n",
       "      <td>M0001</td>\n",
       "      <td>Tom</td>\n",
       "      <td>Blue</td>\n",
       "      <td>HR</td>\n",
       "      <td>manager</td>\n",
       "      <td>52.0</td>\n",
       "      <td>150000</td>\n",
       "    </tr>\n",
       "    <tr>\n",
       "      <th>1</th>\n",
       "      <td>M0002</td>\n",
       "      <td>John</td>\n",
       "      <td>Black</td>\n",
       "      <td>IT</td>\n",
       "      <td>manager</td>\n",
       "      <td>48.0</td>\n",
       "      <td>180000</td>\n",
       "    </tr>\n",
       "    <tr>\n",
       "      <th>2</th>\n",
       "      <td>E0001</td>\n",
       "      <td>Micheal</td>\n",
       "      <td>Brown</td>\n",
       "      <td>IT</td>\n",
       "      <td>data scientist</td>\n",
       "      <td>35.0</td>\n",
       "      <td>150000</td>\n",
       "    </tr>\n",
       "    <tr>\n",
       "      <th>3</th>\n",
       "      <td>E0002</td>\n",
       "      <td>Jason</td>\n",
       "      <td>Walker</td>\n",
       "      <td>HR</td>\n",
       "      <td>recruiter</td>\n",
       "      <td>38.0</td>\n",
       "      <td>130000</td>\n",
       "    </tr>\n",
       "    <tr>\n",
       "      <th>4</th>\n",
       "      <td>E0003</td>\n",
       "      <td>Alex</td>\n",
       "      <td>Green</td>\n",
       "      <td>IT</td>\n",
       "      <td>backend developer</td>\n",
       "      <td>NaN</td>\n",
       "      <td>110000</td>\n",
       "    </tr>\n",
       "    <tr>\n",
       "      <th>5</th>\n",
       "      <td>E0004</td>\n",
       "      <td>Oscar</td>\n",
       "      <td>Smi̇th</td>\n",
       "      <td>IT</td>\n",
       "      <td>frontend developer</td>\n",
       "      <td>32.0</td>\n",
       "      <td>120000</td>\n",
       "    </tr>\n",
       "    <tr>\n",
       "      <th>6</th>\n",
       "      <td>E0005</td>\n",
       "      <td>Adrian</td>\n",
       "      <td>Star</td>\n",
       "      <td>IT</td>\n",
       "      <td>data scientist</td>\n",
       "      <td>40.0</td>\n",
       "      <td>135000</td>\n",
       "    </tr>\n",
       "    <tr>\n",
       "      <th>7</th>\n",
       "      <td>E0006</td>\n",
       "      <td>Albert</td>\n",
       "      <td>Simon</td>\n",
       "      <td>IT</td>\n",
       "      <td>data scientist</td>\n",
       "      <td>35.0</td>\n",
       "      <td>125000</td>\n",
       "    </tr>\n",
       "  </tbody>\n",
       "</table>\n",
       "</div>"
      ],
      "text/plain": [
       "      id     name surname department                 job   age  salary\n",
       "0  M0001      Tom    Blue         HR             manager  52.0  150000\n",
       "1  M0002     John   Black         IT             manager  48.0  180000\n",
       "2  E0001  Micheal   Brown         IT      data scientist  35.0  150000\n",
       "3  E0002    Jason  Walker         HR           recruiter  38.0  130000\n",
       "4  E0003     Alex   Green         IT   backend developer   NaN  110000\n",
       "5  E0004    Oscar  Smi̇th         IT  frontend developer  32.0  120000\n",
       "6  E0005   Adrian    Star         IT      data scientist  40.0  135000\n",
       "7  E0006   Albert   Simon         IT      data scientist  35.0  125000"
      ]
     },
     "execution_count": 14,
     "metadata": {},
     "output_type": "execute_result"
    }
   ],
   "source": [
    "df"
   ]
  },
  {
   "cell_type": "code",
   "execution_count": 15,
   "id": "7bcc649d",
   "metadata": {
    "execution": {
     "iopub.execute_input": "2023-07-20T15:36:54.988781Z",
     "iopub.status.busy": "2023-07-20T15:36:54.988391Z",
     "iopub.status.idle": "2023-07-20T15:36:55.009104Z",
     "shell.execute_reply": "2023-07-20T15:36:55.007827Z"
    },
    "papermill": {
     "duration": 0.030344,
     "end_time": "2023-07-20T15:36:55.011443",
     "exception": false,
     "start_time": "2023-07-20T15:36:54.981099",
     "status": "completed"
    },
    "tags": []
   },
   "outputs": [
    {
     "name": "stdout",
     "output_type": "stream",
     "text": [
      "<class 'pandas.core.frame.DataFrame'>\n",
      "RangeIndex: 8 entries, 0 to 7\n",
      "Data columns (total 7 columns):\n",
      " #   Column      Non-Null Count  Dtype  \n",
      "---  ------      --------------  -----  \n",
      " 0   id          8 non-null      object \n",
      " 1   name        8 non-null      object \n",
      " 2   surname     8 non-null      object \n",
      " 3   department  8 non-null      object \n",
      " 4   job         8 non-null      object \n",
      " 5   age         7 non-null      float64\n",
      " 6   salary      8 non-null      int64  \n",
      "dtypes: float64(1), int64(1), object(5)\n",
      "memory usage: 576.0+ bytes\n"
     ]
    }
   ],
   "source": [
    "df.info()"
   ]
  },
  {
   "cell_type": "code",
   "execution_count": null,
   "id": "12bc3627",
   "metadata": {
    "papermill": {
     "duration": 0.007485,
     "end_time": "2023-07-20T15:36:55.026498",
     "exception": false,
     "start_time": "2023-07-20T15:36:55.019013",
     "status": "completed"
    },
    "tags": []
   },
   "outputs": [],
   "source": []
  }
 ],
 "metadata": {
  "kernelspec": {
   "display_name": "Python 3",
   "language": "python",
   "name": "python3"
  },
  "language_info": {
   "codemirror_mode": {
    "name": "ipython",
    "version": 3
   },
   "file_extension": ".py",
   "mimetype": "text/x-python",
   "name": "python",
   "nbconvert_exporter": "python",
   "pygments_lexer": "ipython3",
   "version": "3.10.12"
  },
  "papermill": {
   "default_parameters": {},
   "duration": 10.798982,
   "end_time": "2023-07-20T15:36:55.952341",
   "environment_variables": {},
   "exception": null,
   "input_path": "__notebook__.ipynb",
   "output_path": "__notebook__.ipynb",
   "parameters": {},
   "start_time": "2023-07-20T15:36:45.153359",
   "version": "2.4.0"
  }
 },
 "nbformat": 4,
 "nbformat_minor": 5
}
